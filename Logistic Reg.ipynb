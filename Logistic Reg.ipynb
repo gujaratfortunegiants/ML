{
 "cells": [
  {
   "cell_type": "markdown",
   "id": "1db10618",
   "metadata": {},
   "source": [
    "# ASHWIN SURESH (21MIS1174)"
   ]
  },
  {
   "cell_type": "markdown",
   "id": "8ba08706",
   "metadata": {},
   "source": [
    "# First we will load the file to the variable filepath and supress any kind of warnings that pop up"
   ]
  },
  {
   "cell_type": "code",
   "execution_count": 1,
   "id": "071eb546",
   "metadata": {},
   "outputs": [],
   "source": [
    "# Supress Warnings\n",
    "\n",
    "import warnings\n",
    "warnings.filterwarnings('ignore')\n",
    "\n",
    "import numpy as np\n",
    "import pandas as pd\n",
    "# Loading File\n",
    "filepath ='C:/Users/Administrator/OneDrive/Desktop/SEM-6/SWE4012/Lab Files/SUV.csv'"
   ]
  },
  {
   "cell_type": "markdown",
   "id": "d550984c",
   "metadata": {},
   "source": [
    "# Using pandas library it enables us to read the csv file and store as a dataframe"
   ]
  },
  {
   "cell_type": "code",
   "execution_count": 2,
   "id": "01c5fa73",
   "metadata": {},
   "outputs": [],
   "source": [
    "data=pd.read_csv(filepath)"
   ]
  },
  {
   "cell_type": "markdown",
   "id": "04e8ad41",
   "metadata": {},
   "source": [
    "# Displaying first 5 records of the dataframe "
   ]
  },
  {
   "cell_type": "code",
   "execution_count": 3,
   "id": "372b255d",
   "metadata": {},
   "outputs": [
    {
     "data": {
      "text/html": [
       "<div>\n",
       "<style scoped>\n",
       "    .dataframe tbody tr th:only-of-type {\n",
       "        vertical-align: middle;\n",
       "    }\n",
       "\n",
       "    .dataframe tbody tr th {\n",
       "        vertical-align: top;\n",
       "    }\n",
       "\n",
       "    .dataframe thead th {\n",
       "        text-align: right;\n",
       "    }\n",
       "</style>\n",
       "<table border=\"1\" class=\"dataframe\">\n",
       "  <thead>\n",
       "    <tr style=\"text-align: right;\">\n",
       "      <th></th>\n",
       "      <th>User ID</th>\n",
       "      <th>Gender</th>\n",
       "      <th>Age</th>\n",
       "      <th>EstimatedSalary</th>\n",
       "      <th>Purchased</th>\n",
       "    </tr>\n",
       "  </thead>\n",
       "  <tbody>\n",
       "    <tr>\n",
       "      <th>0</th>\n",
       "      <td>15624510</td>\n",
       "      <td>Male</td>\n",
       "      <td>19</td>\n",
       "      <td>19000</td>\n",
       "      <td>0</td>\n",
       "    </tr>\n",
       "    <tr>\n",
       "      <th>1</th>\n",
       "      <td>15810944</td>\n",
       "      <td>Male</td>\n",
       "      <td>35</td>\n",
       "      <td>20000</td>\n",
       "      <td>0</td>\n",
       "    </tr>\n",
       "    <tr>\n",
       "      <th>2</th>\n",
       "      <td>15668575</td>\n",
       "      <td>Female</td>\n",
       "      <td>26</td>\n",
       "      <td>43000</td>\n",
       "      <td>0</td>\n",
       "    </tr>\n",
       "    <tr>\n",
       "      <th>3</th>\n",
       "      <td>15603246</td>\n",
       "      <td>Female</td>\n",
       "      <td>27</td>\n",
       "      <td>57000</td>\n",
       "      <td>0</td>\n",
       "    </tr>\n",
       "    <tr>\n",
       "      <th>4</th>\n",
       "      <td>15804002</td>\n",
       "      <td>Male</td>\n",
       "      <td>19</td>\n",
       "      <td>76000</td>\n",
       "      <td>0</td>\n",
       "    </tr>\n",
       "  </tbody>\n",
       "</table>\n",
       "</div>"
      ],
      "text/plain": [
       "    User ID  Gender  Age  EstimatedSalary  Purchased\n",
       "0  15624510    Male   19            19000          0\n",
       "1  15810944    Male   35            20000          0\n",
       "2  15668575  Female   26            43000          0\n",
       "3  15603246  Female   27            57000          0\n",
       "4  15804002    Male   19            76000          0"
      ]
     },
     "execution_count": 3,
     "metadata": {},
     "output_type": "execute_result"
    }
   ],
   "source": [
    "data.head()"
   ]
  },
  {
   "cell_type": "code",
   "execution_count": 4,
   "id": "b1a01084",
   "metadata": {},
   "outputs": [
    {
     "data": {
      "text/html": [
       "<div>\n",
       "<style scoped>\n",
       "    .dataframe tbody tr th:only-of-type {\n",
       "        vertical-align: middle;\n",
       "    }\n",
       "\n",
       "    .dataframe tbody tr th {\n",
       "        vertical-align: top;\n",
       "    }\n",
       "\n",
       "    .dataframe thead th {\n",
       "        text-align: right;\n",
       "    }\n",
       "</style>\n",
       "<table border=\"1\" class=\"dataframe\">\n",
       "  <thead>\n",
       "    <tr style=\"text-align: right;\">\n",
       "      <th></th>\n",
       "      <th>Gender</th>\n",
       "      <th>Age</th>\n",
       "      <th>EstimatedSalary</th>\n",
       "      <th>Purchased</th>\n",
       "    </tr>\n",
       "  </thead>\n",
       "  <tbody>\n",
       "    <tr>\n",
       "      <th>0</th>\n",
       "      <td>Male</td>\n",
       "      <td>19</td>\n",
       "      <td>19000</td>\n",
       "      <td>0</td>\n",
       "    </tr>\n",
       "    <tr>\n",
       "      <th>1</th>\n",
       "      <td>Male</td>\n",
       "      <td>35</td>\n",
       "      <td>20000</td>\n",
       "      <td>0</td>\n",
       "    </tr>\n",
       "    <tr>\n",
       "      <th>2</th>\n",
       "      <td>Female</td>\n",
       "      <td>26</td>\n",
       "      <td>43000</td>\n",
       "      <td>0</td>\n",
       "    </tr>\n",
       "    <tr>\n",
       "      <th>3</th>\n",
       "      <td>Female</td>\n",
       "      <td>27</td>\n",
       "      <td>57000</td>\n",
       "      <td>0</td>\n",
       "    </tr>\n",
       "    <tr>\n",
       "      <th>4</th>\n",
       "      <td>Male</td>\n",
       "      <td>19</td>\n",
       "      <td>76000</td>\n",
       "      <td>0</td>\n",
       "    </tr>\n",
       "    <tr>\n",
       "      <th>...</th>\n",
       "      <td>...</td>\n",
       "      <td>...</td>\n",
       "      <td>...</td>\n",
       "      <td>...</td>\n",
       "    </tr>\n",
       "    <tr>\n",
       "      <th>395</th>\n",
       "      <td>Female</td>\n",
       "      <td>46</td>\n",
       "      <td>41000</td>\n",
       "      <td>1</td>\n",
       "    </tr>\n",
       "    <tr>\n",
       "      <th>396</th>\n",
       "      <td>Male</td>\n",
       "      <td>51</td>\n",
       "      <td>23000</td>\n",
       "      <td>1</td>\n",
       "    </tr>\n",
       "    <tr>\n",
       "      <th>397</th>\n",
       "      <td>Female</td>\n",
       "      <td>50</td>\n",
       "      <td>20000</td>\n",
       "      <td>1</td>\n",
       "    </tr>\n",
       "    <tr>\n",
       "      <th>398</th>\n",
       "      <td>Male</td>\n",
       "      <td>36</td>\n",
       "      <td>33000</td>\n",
       "      <td>0</td>\n",
       "    </tr>\n",
       "    <tr>\n",
       "      <th>399</th>\n",
       "      <td>Female</td>\n",
       "      <td>49</td>\n",
       "      <td>36000</td>\n",
       "      <td>1</td>\n",
       "    </tr>\n",
       "  </tbody>\n",
       "</table>\n",
       "<p>400 rows × 4 columns</p>\n",
       "</div>"
      ],
      "text/plain": [
       "     Gender  Age  EstimatedSalary  Purchased\n",
       "0      Male   19            19000          0\n",
       "1      Male   35            20000          0\n",
       "2    Female   26            43000          0\n",
       "3    Female   27            57000          0\n",
       "4      Male   19            76000          0\n",
       "..      ...  ...              ...        ...\n",
       "395  Female   46            41000          1\n",
       "396    Male   51            23000          1\n",
       "397  Female   50            20000          1\n",
       "398    Male   36            33000          0\n",
       "399  Female   49            36000          1\n",
       "\n",
       "[400 rows x 4 columns]"
      ]
     },
     "execution_count": 4,
     "metadata": {},
     "output_type": "execute_result"
    }
   ],
   "source": [
    "data.drop(['User ID'], axis=1)"
   ]
  },
  {
   "cell_type": "markdown",
   "id": "139dffe8",
   "metadata": {},
   "source": [
    "# To check whether there are any null or empty values in the dataset, since none we proceed further without disturbing the dataset"
   ]
  },
  {
   "cell_type": "code",
   "execution_count": 5,
   "id": "ca1de66f",
   "metadata": {},
   "outputs": [
    {
     "data": {
      "text/plain": [
       "User ID            0\n",
       "Gender             0\n",
       "Age                0\n",
       "EstimatedSalary    0\n",
       "Purchased          0\n",
       "dtype: int64"
      ]
     },
     "execution_count": 5,
     "metadata": {},
     "output_type": "execute_result"
    }
   ],
   "source": [
    "data.isnull().sum()"
   ]
  },
  {
   "cell_type": "markdown",
   "id": "1e5288d6",
   "metadata": {},
   "source": [
    "# To verify the datatypes of the dataset, as only numerical values shall be used"
   ]
  },
  {
   "cell_type": "code",
   "execution_count": 6,
   "id": "1b6da35a",
   "metadata": {},
   "outputs": [
    {
     "data": {
      "text/plain": [
       "User ID             int64\n",
       "Gender             object\n",
       "Age                 int64\n",
       "EstimatedSalary     int64\n",
       "Purchased           int64\n",
       "dtype: object"
      ]
     },
     "execution_count": 6,
     "metadata": {},
     "output_type": "execute_result"
    }
   ],
   "source": [
    "data.dtypes"
   ]
  },
  {
   "cell_type": "markdown",
   "id": "bd9374a7",
   "metadata": {},
   "source": [
    "# As per the dataset USER ID is not deemed to be set as features as it has unique values.. So it is better to drop them from the dataframe and convert values of GENDER to ordinal form"
   ]
  },
  {
   "cell_type": "code",
   "execution_count": 7,
   "id": "227ff7a7",
   "metadata": {},
   "outputs": [
    {
     "data": {
      "text/html": [
       "<div>\n",
       "<style scoped>\n",
       "    .dataframe tbody tr th:only-of-type {\n",
       "        vertical-align: middle;\n",
       "    }\n",
       "\n",
       "    .dataframe tbody tr th {\n",
       "        vertical-align: top;\n",
       "    }\n",
       "\n",
       "    .dataframe thead th {\n",
       "        text-align: right;\n",
       "    }\n",
       "</style>\n",
       "<table border=\"1\" class=\"dataframe\">\n",
       "  <thead>\n",
       "    <tr style=\"text-align: right;\">\n",
       "      <th></th>\n",
       "      <th>Gender</th>\n",
       "      <th>Age</th>\n",
       "      <th>EstimatedSalary</th>\n",
       "      <th>Purchased</th>\n",
       "    </tr>\n",
       "  </thead>\n",
       "  <tbody>\n",
       "    <tr>\n",
       "      <th>0</th>\n",
       "      <td>0</td>\n",
       "      <td>19</td>\n",
       "      <td>19000</td>\n",
       "      <td>0</td>\n",
       "    </tr>\n",
       "    <tr>\n",
       "      <th>1</th>\n",
       "      <td>0</td>\n",
       "      <td>35</td>\n",
       "      <td>20000</td>\n",
       "      <td>0</td>\n",
       "    </tr>\n",
       "    <tr>\n",
       "      <th>2</th>\n",
       "      <td>1</td>\n",
       "      <td>26</td>\n",
       "      <td>43000</td>\n",
       "      <td>0</td>\n",
       "    </tr>\n",
       "    <tr>\n",
       "      <th>3</th>\n",
       "      <td>1</td>\n",
       "      <td>27</td>\n",
       "      <td>57000</td>\n",
       "      <td>0</td>\n",
       "    </tr>\n",
       "    <tr>\n",
       "      <th>4</th>\n",
       "      <td>0</td>\n",
       "      <td>19</td>\n",
       "      <td>76000</td>\n",
       "      <td>0</td>\n",
       "    </tr>\n",
       "    <tr>\n",
       "      <th>...</th>\n",
       "      <td>...</td>\n",
       "      <td>...</td>\n",
       "      <td>...</td>\n",
       "      <td>...</td>\n",
       "    </tr>\n",
       "    <tr>\n",
       "      <th>395</th>\n",
       "      <td>1</td>\n",
       "      <td>46</td>\n",
       "      <td>41000</td>\n",
       "      <td>1</td>\n",
       "    </tr>\n",
       "    <tr>\n",
       "      <th>396</th>\n",
       "      <td>0</td>\n",
       "      <td>51</td>\n",
       "      <td>23000</td>\n",
       "      <td>1</td>\n",
       "    </tr>\n",
       "    <tr>\n",
       "      <th>397</th>\n",
       "      <td>1</td>\n",
       "      <td>50</td>\n",
       "      <td>20000</td>\n",
       "      <td>1</td>\n",
       "    </tr>\n",
       "    <tr>\n",
       "      <th>398</th>\n",
       "      <td>0</td>\n",
       "      <td>36</td>\n",
       "      <td>33000</td>\n",
       "      <td>0</td>\n",
       "    </tr>\n",
       "    <tr>\n",
       "      <th>399</th>\n",
       "      <td>1</td>\n",
       "      <td>49</td>\n",
       "      <td>36000</td>\n",
       "      <td>1</td>\n",
       "    </tr>\n",
       "  </tbody>\n",
       "</table>\n",
       "<p>400 rows × 4 columns</p>\n",
       "</div>"
      ],
      "text/plain": [
       "     Gender  Age  EstimatedSalary  Purchased\n",
       "0         0   19            19000          0\n",
       "1         0   35            20000          0\n",
       "2         1   26            43000          0\n",
       "3         1   27            57000          0\n",
       "4         0   19            76000          0\n",
       "..      ...  ...              ...        ...\n",
       "395       1   46            41000          1\n",
       "396       0   51            23000          1\n",
       "397       1   50            20000          1\n",
       "398       0   36            33000          0\n",
       "399       1   49            36000          1\n",
       "\n",
       "[400 rows x 4 columns]"
      ]
     },
     "execution_count": 7,
     "metadata": {},
     "output_type": "execute_result"
    }
   ],
   "source": [
    "# Drop additional columns\n",
    "columns_to_drop = ['User ID']\n",
    "x_selected = data.drop(columns=columns_to_drop, axis=1)\n",
    "x_selected['Gender'].replace({'Male': 0, 'Female': 1}, inplace = True)\n",
    "x_selected"
   ]
  },
  {
   "cell_type": "markdown",
   "id": "2e1d6ba0",
   "metadata": {},
   "source": [
    "# It is advisable to first find the correlation between features and target.. Higher the correlation coefficient better the Linear Regression analysis"
   ]
  },
  {
   "cell_type": "code",
   "execution_count": 8,
   "id": "f4a22055",
   "metadata": {},
   "outputs": [
    {
     "data": {
      "image/png": "[encoded data removed]",
      "text/plain": [
       "<Figure size 640x480 with 2 Axes>"
      ]
     },
     "metadata": {},
     "output_type": "display_data"
    }
   ],
   "source": [
    "# Data Visualisation\n",
    "import matplotlib.pyplot as plt \n",
    "import seaborn as sns\n",
    "\n",
    "sns.heatmap(x_selected.corr(), cmap=\"YlGnBu\", annot=True)\n",
    "plt.show()"
   ]
  },
  {
   "cell_type": "markdown",
   "id": "e777297b",
   "metadata": {},
   "source": [
    "# Using the scatter plot between AGE and PURCHASE to check whether Logistic Regression is feasible.. AGE and PURCHASE have a correlation of 62 %"
   ]
  },
  {
   "cell_type": "code",
   "execution_count": 9,
   "id": "e4f5a84b",
   "metadata": {},
   "outputs": [
    {
     "data": {
      "text/plain": [
       "<Axes: xlabel='Age', ylabel='Purchased'>"
      ]
     },
     "execution_count": 9,
     "metadata": {},
     "output_type": "execute_result"
    },
    {
     "data": {
      "image/png": "[encoded data removed]",
      "text/plain": [
       "<Figure size 640x480 with 1 Axes>"
      ]
     },
     "metadata": {},
     "output_type": "display_data"
    }
   ],
   "source": [
    "# Visualise the relationship between the features and the response using scatterplots\n",
    "data.plot(x='Age',y='Purchased',kind='scatter')"
   ]
  },
  {
   "cell_type": "markdown",
   "id": "147fe977",
   "metadata": {},
   "source": [
    "# Here 'x' represents the independent variable (feature) and 'y' represents the dependent variable (target)"
   ]
  },
  {
   "cell_type": "code",
   "execution_count": 10,
   "id": "f668cf15",
   "metadata": {},
   "outputs": [],
   "source": [
    "x = data['Age']\n",
    "y = data['Purchased']"
   ]
  },
  {
   "cell_type": "markdown",
   "id": "33823fa1",
   "metadata": {},
   "source": [
    "# Since only one feature is being used so the size has to be increased by one more dimension using 'reshape'"
   ]
  },
  {
   "cell_type": "code",
   "execution_count": 11,
   "id": "67c77e8d",
   "metadata": {},
   "outputs": [],
   "source": [
    "# Convert 1D array to 2D array\n",
    "x = x.values.reshape(-1, 1)"
   ]
  },
  {
   "cell_type": "code",
   "execution_count": 12,
   "id": "af3cdb51",
   "metadata": {},
   "outputs": [
    {
     "data": {
      "text/plain": [
       "(400, 1)"
      ]
     },
     "execution_count": 12,
     "metadata": {},
     "output_type": "execute_result"
    }
   ],
   "source": [
    "x.shape"
   ]
  },
  {
   "cell_type": "markdown",
   "id": "a2cc47d6",
   "metadata": {},
   "source": [
    "# Here we start splitting the dataset into training and testing using sklearn library and we split in that ratio of 85:15 where 85 represents training set and 15 testing/validating set"
   ]
  },
  {
   "cell_type": "code",
   "execution_count": 13,
   "id": "1af949ed",
   "metadata": {},
   "outputs": [],
   "source": [
    "# Splitting the dataset into training and test set.  \n",
    "from sklearn.model_selection import train_test_split  \n",
    "x_train, x_test, y_train, y_test= train_test_split(x, y, test_size = 0.15, random_state = 0)  "
   ]
  },
  {
   "cell_type": "markdown",
   "id": "79f1d93e",
   "metadata": {},
   "source": [
    "# To check the dimensions of each training and testing set"
   ]
  },
  {
   "cell_type": "code",
   "execution_count": 14,
   "id": "dd5a3e04",
   "metadata": {},
   "outputs": [
    {
     "name": "stdout",
     "output_type": "stream",
     "text": [
      "(340, 1)\n",
      "(340,)\n",
      "(60, 1)\n",
      "(60,)\n"
     ]
    }
   ],
   "source": [
    "print(x_train.shape)\n",
    "print(y_train.shape)\n",
    "print(x_test.shape)\n",
    "print(y_test.shape)"
   ]
  },
  {
   "cell_type": "markdown",
   "id": "7b2d0661",
   "metadata": {},
   "source": [
    "# Importing LogisticRegression from 'sklearn' library and using the object to train the model on training set"
   ]
  },
  {
   "cell_type": "code",
   "execution_count": 15,
   "id": "e0306994",
   "metadata": {},
   "outputs": [
    {
     "data": {
      "text/html": [
       "<style>#sk-container-id-1 {color: black;}#sk-container-id-1 pre{padding: 0;}#sk-container-id-1 div.sk-toggleable {background-color: white;}#sk-container-id-1 label.sk-toggleable__label {cursor: pointer;display: block;width: 100%;margin-bottom: 0;padding: 0.3em;box-sizing: border-box;text-align: center;}#sk-container-id-1 label.sk-toggleable__label-arrow:before {content: \"▸\";float: left;margin-right: 0.25em;color: #696969;}#sk-container-id-1 label.sk-toggleable__label-arrow:hover:before {color: black;}#sk-container-id-1 div.sk-estimator:hover label.sk-toggleable__label-arrow:before {color: black;}#sk-container-id-1 div.sk-toggleable__content {max-height: 0;max-width: 0;overflow: hidden;text-align: left;background-color: #f0f8ff;}#sk-container-id-1 div.sk-toggleable__content pre {margin: 0.2em;color: black;border-radius: 0.25em;background-color: #f0f8ff;}#sk-container-id-1 input.sk-toggleable__control:checked~div.sk-toggleable__content {max-height: 200px;max-width: 100%;overflow: auto;}#sk-container-id-1 input.sk-toggleable__control:checked~label.sk-toggleable__label-arrow:before {content: \"▾\";}#sk-container-id-1 div.sk-estimator input.sk-toggleable__control:checked~label.sk-toggleable__label {background-color: #d4ebff;}#sk-container-id-1 div.sk-label input.sk-toggleable__control:checked~label.sk-toggleable__label {background-color: #d4ebff;}#sk-container-id-1 input.sk-hidden--visually {border: 0;clip: rect(1px 1px 1px 1px);clip: rect(1px, 1px, 1px, 1px);height: 1px;margin: -1px;overflow: hidden;padding: 0;position: absolute;width: 1px;}#sk-container-id-1 div.sk-estimator {font-family: monospace;background-color: #f0f8ff;border: 1px dotted black;border-radius: 0.25em;box-sizing: border-box;margin-bottom: 0.5em;}#sk-container-id-1 div.sk-estimator:hover {background-color: #d4ebff;}#sk-container-id-1 div.sk-parallel-item::after {content: \"\";width: 100%;border-bottom: 1px solid gray;flex-grow: 1;}#sk-container-id-1 div.sk-label:hover label.sk-toggleable__label {background-color: #d4ebff;}#sk-container-id-1 div.sk-serial::before {content: \"\";position: absolute;border-left: 1px solid gray;box-sizing: border-box;top: 0;bottom: 0;left: 50%;z-index: 0;}#sk-container-id-1 div.sk-serial {display: flex;flex-direction: column;align-items: center;background-color: white;padding-right: 0.2em;padding-left: 0.2em;position: relative;}#sk-container-id-1 div.sk-item {position: relative;z-index: 1;}#sk-container-id-1 div.sk-parallel {display: flex;align-items: stretch;justify-content: center;background-color: white;position: relative;}#sk-container-id-1 div.sk-item::before, #sk-container-id-1 div.sk-parallel-item::before {content: \"\";position: absolute;border-left: 1px solid gray;box-sizing: border-box;top: 0;bottom: 0;left: 50%;z-index: -1;}#sk-container-id-1 div.sk-parallel-item {display: flex;flex-direction: column;z-index: 1;position: relative;background-color: white;}#sk-container-id-1 div.sk-parallel-item:first-child::after {align-self: flex-end;width: 50%;}#sk-container-id-1 div.sk-parallel-item:last-child::after {align-self: flex-start;width: 50%;}#sk-container-id-1 div.sk-parallel-item:only-child::after {width: 0;}#sk-container-id-1 div.sk-dashed-wrapped {border: 1px dashed gray;margin: 0 0.4em 0.5em 0.4em;box-sizing: border-box;padding-bottom: 0.4em;background-color: white;}#sk-container-id-1 div.sk-label label {font-family: monospace;font-weight: bold;display: inline-block;line-height: 1.2em;}#sk-container-id-1 div.sk-label-container {text-align: center;}#sk-container-id-1 div.sk-container {/* jupyter's `normalize.less` sets `[hidden] { display: none; }` but bootstrap.min.css set `[hidden] { display: none !important; }` so we also need the `!important` here to be able to override the default hidden behavior on the sphinx rendered scikit-learn.org. See: https://github.com/scikit-learn/scikit-learn/issues/21755 */display: inline-block !important;position: relative;}#sk-container-id-1 div.sk-text-repr-fallback {display: none;}</style><div id=\"sk-container-id-1\" class=\"sk-top-container\"><div class=\"sk-text-repr-fallback\"><pre>LogisticRegression()</pre><b>In a Jupyter environment, please rerun this cell to show the HTML representation or trust the notebook. <br />On GitHub, the HTML representation is unable to render, please try loading this page with nbviewer.org.</b></div><div class=\"sk-container\" hidden><div class=\"sk-item\"><div class=\"sk-estimator sk-toggleable\"><input class=\"sk-toggleable__control sk-hidden--visually\" id=\"sk-estimator-id-1\" type=\"checkbox\" checked><label for=\"sk-estimator-id-1\" class=\"sk-toggleable__label sk-toggleable__label-arrow\">LogisticRegression</label><div class=\"sk-toggleable__content\"><pre>LogisticRegression()</pre></div></div></div></div></div>"
      ],
      "text/plain": [
       "LogisticRegression()"
      ]
     },
     "execution_count": 15,
     "metadata": {},
     "output_type": "execute_result"
    }
   ],
   "source": [
    "# import LogisticRegression from sklearn\n",
    "from sklearn.linear_model import LogisticRegression\n",
    "\n",
    "# Representing LogisticRegression as lr(Creating LogisticRegression Object)\n",
    "lr = LogisticRegression()\n",
    "\n",
    "# Fit the model using lr.fit()\n",
    "lr.fit(x_train, y_train)"
   ]
  },
  {
   "cell_type": "markdown",
   "id": "19805c4d",
   "metadata": {},
   "source": [
    "# Predict which class x_test values fall in"
   ]
  },
  {
   "cell_type": "code",
   "execution_count": 16,
   "id": "a6046fab",
   "metadata": {},
   "outputs": [
    {
     "data": {
      "text/plain": [
       "array([0, 0, 0, 0, 0, 0, 0, 0, 0, 1, 0, 0, 0, 0, 0, 0, 0, 0, 1, 0, 0, 1,\n",
       "       0, 1, 0, 1, 0, 0, 0, 0, 0, 0, 1, 0, 0, 0, 0, 0, 0, 1, 0, 0, 0, 0,\n",
       "       1, 0, 0, 1, 0, 1, 1, 0, 0, 0, 1, 1, 0, 0, 1, 0], dtype=int64)"
      ]
     },
     "execution_count": 16,
     "metadata": {},
     "output_type": "execute_result"
    }
   ],
   "source": [
    "y_pred = lr.predict(x_test)\n",
    "lr.predict(x_test)"
   ]
  },
  {
   "cell_type": "markdown",
   "id": "25fce135",
   "metadata": {},
   "source": [
    "# Predict the probability of x_test values falling in either Class '0' or '1'"
   ]
  },
  {
   "cell_type": "code",
   "execution_count": 17,
   "id": "a441429d",
   "metadata": {},
   "outputs": [
    {
     "data": {
      "text/plain": [
       "array([[0.89624545, 0.10375455],\n",
       "       [0.68512565, 0.31487435],\n",
       "       [0.78490159, 0.21509841],\n",
       "       [0.89624545, 0.10375455],\n",
       "       [0.78490159, 0.21509841],\n",
       "       [0.93542783, 0.06457217],\n",
       "       [0.87909008, 0.12090992],\n",
       "       [0.75438137, 0.24561863],\n",
       "       [0.98557586, 0.01442414],\n",
       "       [0.31568491, 0.68431509],\n",
       "       [0.89624545, 0.10375455],\n",
       "       [0.92420319, 0.07579681],\n",
       "       [0.72106958, 0.27893042],\n",
       "       [0.64681855, 0.35318145],\n",
       "       [0.97975973, 0.02024027],\n",
       "       [0.85954269, 0.14045731],\n",
       "       [0.72106958, 0.27893042],\n",
       "       [0.98290923, 0.01709077],\n",
       "       [0.10410422, 0.89589578],\n",
       "       [0.78490159, 0.21509841],\n",
       "       [0.78490159, 0.21509841],\n",
       "       [0.31568491, 0.68431509],\n",
       "       [0.56473325, 0.43526675],\n",
       "       [0.31568491, 0.68431509],\n",
       "       [0.966515  , 0.033485  ],\n",
       "       [0.246315  , 0.753685  ],\n",
       "       [0.92420319, 0.07579681],\n",
       "       [0.91121256, 0.08878744],\n",
       "       [0.72106958, 0.27893042],\n",
       "       [0.85954269, 0.14045731],\n",
       "       [0.976044  , 0.023956  ],\n",
       "       [0.72106958, 0.27893042],\n",
       "       [0.07606026, 0.92393974],\n",
       "       [0.72106958, 0.27893042],\n",
       "       [0.96046589, 0.03953411],\n",
       "       [0.98557586, 0.01442414],\n",
       "       [0.97166584, 0.02833416],\n",
       "       [0.81257165, 0.18742835],\n",
       "       [0.87909008, 0.12090992],\n",
       "       [0.246315  , 0.753685  ],\n",
       "       [0.93542783, 0.06457217],\n",
       "       [0.56473325, 0.43526675],\n",
       "       [0.93542783, 0.06457217],\n",
       "       [0.78490159, 0.21509841],\n",
       "       [0.47893872, 0.52106128],\n",
       "       [0.93542783, 0.06457217],\n",
       "       [0.72106958, 0.27893042],\n",
       "       [0.16309231, 0.83690769],\n",
       "       [0.94508899, 0.05491101],\n",
       "       [0.246315  , 0.753685  ],\n",
       "       [0.07606026, 0.92393974],\n",
       "       [0.81257165, 0.18742835],\n",
       "       [0.78490159, 0.21509841],\n",
       "       [0.81257165, 0.18742835],\n",
       "       [0.05510619, 0.94489381],\n",
       "       [0.39436887, 0.60563113],\n",
       "       [0.91121256, 0.08878744],\n",
       "       [0.94508899, 0.05491101],\n",
       "       [0.246315  , 0.753685  ],\n",
       "       [0.966515  , 0.033485  ]])"
      ]
     },
     "execution_count": 17,
     "metadata": {},
     "output_type": "execute_result"
    }
   ],
   "source": [
    "lr.predict_proba(x_test)"
   ]
  },
  {
   "cell_type": "markdown",
   "id": "ccb38803",
   "metadata": {},
   "source": [
    "# One of the most important in Logistic Regression model is the equation of curve, i.e., y = 1 / ( 1 + e ^ ( - mx - c) ), where m is the slope of the curve and c is intercept "
   ]
  },
  {
   "cell_type": "code",
   "execution_count": 18,
   "id": "0b738d29",
   "metadata": {},
   "outputs": [
    {
     "name": "stdout",
     "output_type": "stream",
     "text": [
      "[-7.32652769]\n",
      "[[0.17234471]]\n"
     ]
    }
   ],
   "source": [
    "# Print the intercept and coefficients\n",
    "c = lr.intercept_\n",
    "m = lr.coef_\n",
    "print(lr.intercept_)\n",
    "print(lr.coef_)"
   ]
  },
  {
   "cell_type": "markdown",
   "id": "cb4a897a",
   "metadata": {},
   "source": [
    "# To classify the result we use confusion matrix and classification report"
   ]
  },
  {
   "cell_type": "code",
   "execution_count": 19,
   "id": "4c9bb560",
   "metadata": {},
   "outputs": [
    {
     "data": {
      "text/plain": [
       "array([[44,  1],\n",
       "       [ 2, 13]], dtype=int64)"
      ]
     },
     "execution_count": 19,
     "metadata": {},
     "output_type": "execute_result"
    }
   ],
   "source": [
    "# Creating the Confusion matrix  \n",
    "from sklearn.metrics import confusion_matrix, classification_report  \n",
    "cm = confusion_matrix(y_test, y_pred)  \n",
    "cm"
   ]
  },
  {
   "cell_type": "markdown",
   "id": "64f53b84",
   "metadata": {},
   "source": [
    "# The classification report contains Precision, Recall, F1-Score, Accuracy, etc."
   ]
  },
  {
   "cell_type": "code",
   "execution_count": 20,
   "id": "22355ab2",
   "metadata": {},
   "outputs": [
    {
     "name": "stdout",
     "output_type": "stream",
     "text": [
      "              precision    recall  f1-score   support\n",
      "\n",
      "           0       0.96      0.98      0.97        45\n",
      "           1       0.93      0.87      0.90        15\n",
      "\n",
      "    accuracy                           0.95        60\n",
      "   macro avg       0.94      0.92      0.93        60\n",
      "weighted avg       0.95      0.95      0.95        60\n",
      "\n"
     ]
    }
   ],
   "source": [
    "print(classification_report(y_test, y_pred))"
   ]
  },
  {
   "cell_type": "code",
   "execution_count": 21,
   "id": "a7d3258a",
   "metadata": {},
   "outputs": [
    {
     "name": "stdout",
     "output_type": "stream",
     "text": [
      "Accuracy: 95.000 %\n",
      "F1 Score: 95.059 %\n",
      "Precision Score: 95.185 %\n",
      "Recall Score: 95.000 %\n"
     ]
    }
   ],
   "source": [
    "from sklearn.metrics import (\n",
    "    accuracy_score,\n",
    "    confusion_matrix,\n",
    "    ConfusionMatrixDisplay,\n",
    "    f1_score, precision_score, recall_score\n",
    ")\n",
    "\n",
    "y_pred = lr.predict(x_test)\n",
    "accuracy = accuracy_score(y_pred, y_test)\n",
    "f1 = f1_score(y_pred, y_test, average=\"weighted\")\n",
    "precision = precision_score(y_pred, y_test, average=\"weighted\")\n",
    "recall = recall_score(y_pred, y_test, average=\"weighted\")\n",
    "\n",
    "print(f\"Accuracy: {format(accuracy*100, '.3f')} %\")\n",
    "print(f\"F1 Score: {format(f1*100, '.3f')} %\")\n",
    "print(f\"Precision Score: {format(precision*100, '.3f')} %\")\n",
    "print(f\"Recall Score: {format(recall*100, '.3f')} %\")"
   ]
  },
  {
   "cell_type": "markdown",
   "id": "f80a3982",
   "metadata": {},
   "source": [
    "# It is better to visualize the confusion matrix as heatmap for better clarity"
   ]
  },
  {
   "cell_type": "code",
   "execution_count": 22,
   "id": "a1224aff",
   "metadata": {},
   "outputs": [
    {
     "data": {
      "text/plain": [
       "<Axes: >"
      ]
     },
     "execution_count": 22,
     "metadata": {},
     "output_type": "execute_result"
    },
    {
     "data": {
      "image/png": "[encoded data removed]",
      "text/plain": [
       "<Figure size 600x400 with 2 Axes>"
      ]
     },
     "metadata": {},
     "output_type": "display_data"
    }
   ],
   "source": [
    "import matplotlib.pyplot as plt    # from matplotlib import pyplot as plt\n",
    "%matplotlib inline\n",
    "\n",
    "# visualize confusion matrix with seaborn heatmap\n",
    "import seaborn as sns\n",
    "plt.figure(figsize=(6,4))\n",
    "\n",
    "cm_matrix = pd.DataFrame(data=cm, columns=['Actual Positive:1', 'Actual Negative:0'], \n",
    "                                 index=['Predict Positive:1', 'Predict Negative:0'])\n",
    "\n",
    "sns.heatmap(cm_matrix, annot=True, fmt='d', cmap='YlGnBu')"
   ]
  },
  {
   "cell_type": "markdown",
   "id": "7822e74d",
   "metadata": {},
   "source": [
    "# The equation of curve hence is :-\n",
    "\n",
    "# y = 1/(1+e^(-0.1723x + 7.3265))\n",
    "\n",
    "# where y is Probability of Event to Happen and x is AGE (training set)"
   ]
  },
  {
   "cell_type": "code",
   "execution_count": 23,
   "id": "27417d4b",
   "metadata": {},
   "outputs": [
    {
     "data": {
      "image/png": "[encoded data removed]",
      "text/plain": [
       "<Figure size 1000x600 with 1 Axes>"
      ]
     },
     "metadata": {},
     "output_type": "display_data"
    }
   ],
   "source": [
    "import numpy as np\n",
    "import matplotlib.pyplot as plt\n",
    "\n",
    "# Generate age values for plotting\n",
    "age_values = np.linspace(min(x), max(x), 1000).reshape(-1, 1)\n",
    "\n",
    "# Calculate the predicted probabilities using the sigmoid function\n",
    "probabilities = 1 / (1 + np.exp(-m * age_values - c))\n",
    "\n",
    "# Plot the curve\n",
    "plt.figure(figsize=(10, 6))\n",
    "plt.plot(age_values, probabilities, color='blue', label='Logistic Regression Curve')\n",
    "plt.scatter(x, y, color='red', label='Data', alpha=0.5)\n",
    "plt.xlabel('Age')\n",
    "plt.ylabel('Purchasing Probability')\n",
    "plt.title('Logistic Regression Curve')\n",
    "plt.legend()\n",
    "plt.show()"
   ]
  },
  {
   "cell_type": "markdown",
   "id": "ffbc6dbf",
   "metadata": {},
   "source": [
    "# Predict the set of values on x_test and x_train and store in corresponding variables"
   ]
  },
  {
   "cell_type": "code",
   "execution_count": 24,
   "id": "856c0f64",
   "metadata": {},
   "outputs": [],
   "source": [
    "y_pred_test = lr.predict(x_test)\n",
    "y_pred_train = lr.predict(x_train)"
   ]
  },
  {
   "cell_type": "markdown",
   "id": "39a23652",
   "metadata": {},
   "source": [
    "# To just check the prediction algorithm we see what the PURCHASED values are based on dataset value and predicted value"
   ]
  },
  {
   "cell_type": "code",
   "execution_count": 25,
   "id": "f12f67fd",
   "metadata": {},
   "outputs": [
    {
     "data": {
      "text/plain": [
       "array([0], dtype=int64)"
      ]
     },
     "execution_count": 25,
     "metadata": {},
     "output_type": "execute_result"
    }
   ],
   "source": [
    "y_new = lr.predict(np.array([[30]]))\n",
    "y_new"
   ]
  },
  {
   "cell_type": "code",
   "execution_count": 26,
   "id": "414fba0a",
   "metadata": {},
   "outputs": [
    {
     "name": "stdout",
     "output_type": "stream",
     "text": [
      "The corresponding y value for x = 30 is: 0\n"
     ]
    }
   ],
   "source": [
    "# Assuming x is your NumPy array and y is your NumPy array\n",
    "value_to_check = 30\n",
    "\n",
    "# Find the index where x equals the specified value\n",
    "i = np.where(x == value_to_check)[0]\n",
    "corresponding_y = y[i[0]]\n",
    "\n",
    "# Check if there is any matching index\n",
    "print(f'The corresponding y value for x = {value_to_check} is: {corresponding_y}')"
   ]
  },
  {
   "cell_type": "markdown",
   "id": "aa42b4bb",
   "metadata": {},
   "source": [
    "# Final Interpretation \n",
    "\n",
    "The SUV purchase dataset which contains 400 rows and 5 columns is used for Logistic Regression model. The dataset is not used as a whole and only specific features are interlinked to the target values. We do require only categorical values in target variable. User ID column is discarded as we are not working on unique values and their prediction. Since no empty or null values are present in the dataset, and Correlation between one of the feature and target is 62 %, we consider only them for Logistic Regression model. Based on 85:15 validating split, Accuracy score is 95 %, relatively Precision score is 95.185 % and similarly for F1score and others. From the curve y = 1 / ( 1 + e ^ -(mx + c)), we get the value of slope, i.e., m = 0.1723 and value of intercept, i.e., c = -7.3265. We predict what class the testing dataset could belong to upon classification and what could the corresponding probability value be. We visualize the logistic regression curve based on Age and Purchase values. At last, we check what predicted class is predicted vs what is in the dataset. The model has quite a few uncertainities but still it is decent to predict the values."
   ]
  }
 ],
 "metadata": {
  "kernelspec": {
   "display_name": "Python 3 (ipykernel)",
   "language": "python",
   "name": "python3"
  },
  "language_info": {
   "codemirror_mode": {
    "name": "ipython",
    "version": 3
   },
   "file_extension": ".py",
   "mimetype": "text/x-python",
   "name": "python",
   "nbconvert_exporter": "python",
   "pygments_lexer": "ipython3",
   "version": "3.11.4"
  }
 },
 "nbformat": 4,
 "nbformat_minor": 5
}
